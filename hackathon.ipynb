{
  "nbformat": 4,
  "nbformat_minor": 0,
  "metadata": {
    "colab": {
      "name": "hackathon.ipynb",
      "provenance": []
    },
    "kernelspec": {
      "name": "python3",
      "display_name": "Python 3"
    },
    "language_info": {
      "name": "python"
    }
  },
  "cells": [
    {
      "cell_type": "code",
      "metadata": {
        "colab": {
          "base_uri": "https://localhost:8080/"
        },
        "id": "q_RmfcT2pgqA",
        "outputId": "d74ceae9-426d-41c7-97d2-2761641037eb"
      },
      "source": [
        "from google.colab import drive\n",
        "drive.mount('/content/drive')"
      ],
      "execution_count": 5,
      "outputs": [
        {
          "output_type": "stream",
          "text": [
            "Mounted at /content/drive\n"
          ],
          "name": "stdout"
        }
      ]
    },
    {
      "cell_type": "code",
      "metadata": {
        "colab": {
          "base_uri": "https://localhost:8080/"
        },
        "id": "SuaS_feDyktr",
        "outputId": "c1a991b3-340d-4d0a-de94-aa0ea881349e"
      },
      "source": [
        "%cd /content/drive/MyDrive"
      ],
      "execution_count": 16,
      "outputs": [
        {
          "output_type": "stream",
          "text": [
            "/content/drive/MyDrive\n"
          ],
          "name": "stdout"
        }
      ]
    },
    {
      "cell_type": "code",
      "metadata": {
        "id": "rOAD7BBaxemN"
      },
      "source": [
        "#all imports\n",
        "import pandas as pd\n",
        "import numpy as np\n",
        "import copy\n",
        "from collections import Counter\n",
        "from matplotlib import pyplot as plt\n",
        "from sklearn.preprocessing import LabelEncoder\n",
        "from sklearn.preprocessing import OneHotEncoder\n",
        "from sklearn.linear_model import LogisticRegression\n",
        "from sklearn.neighbors import KNeighborsClassifier\n",
        "from sklearn.svm import SVC\n",
        "from sklearn.tree import DecisionTreeClassifier\n",
        "from sklearn.ensemble import RandomForestClassifier\n",
        "from sklearn.ensemble import GradientBoostingClassifier\n",
        "from sklearn.model_selection import cross_val_score\n",
        "import seaborn as sns\n",
        "\n",
        "from sklearn.metrics import fbeta_score, f1_score,precision_score,recall_score,accuracy_score, roc_curve, auc,confusion_matrix\n",
        "from sklearn.compose import ColumnTransformer\n",
        "from sklearn.model_selection import train_test_split\n",
        "from sklearn.model_selection import cross_val_predict\n",
        "from sklearn.metrics import roc_curve\n",
        "from sklearn.metrics import roc_auc_score\n",
        "from credit_actual_data_values import substitute"
      ],
      "execution_count": 148,
      "outputs": []
    },
    {
      "cell_type": "code",
      "metadata": {
        "colab": {
          "base_uri": "https://localhost:8080/",
          "height": 204
        },
        "id": "pG94vR1uqOMx",
        "outputId": "10d20f86-9e9d-4d3c-9692-d6392787b370"
      },
      "source": [
        "#loading data into a pandas data frame\n",
        "df=pd.read_csv('germanCreditData_hackathon.data', sep=\" \", header=None)\n",
        "df.head()"
      ],
      "execution_count": 159,
      "outputs": [
        {
          "output_type": "execute_result",
          "data": {
            "text/html": [
              "<div>\n",
              "<style scoped>\n",
              "    .dataframe tbody tr th:only-of-type {\n",
              "        vertical-align: middle;\n",
              "    }\n",
              "\n",
              "    .dataframe tbody tr th {\n",
              "        vertical-align: top;\n",
              "    }\n",
              "\n",
              "    .dataframe thead th {\n",
              "        text-align: right;\n",
              "    }\n",
              "</style>\n",
              "<table border=\"1\" class=\"dataframe\">\n",
              "  <thead>\n",
              "    <tr style=\"text-align: right;\">\n",
              "      <th></th>\n",
              "      <th>0</th>\n",
              "      <th>1</th>\n",
              "      <th>2</th>\n",
              "      <th>3</th>\n",
              "      <th>4</th>\n",
              "      <th>5</th>\n",
              "      <th>6</th>\n",
              "      <th>7</th>\n",
              "      <th>8</th>\n",
              "      <th>9</th>\n",
              "      <th>10</th>\n",
              "      <th>11</th>\n",
              "      <th>12</th>\n",
              "      <th>13</th>\n",
              "      <th>14</th>\n",
              "      <th>15</th>\n",
              "      <th>16</th>\n",
              "      <th>17</th>\n",
              "      <th>18</th>\n",
              "      <th>19</th>\n",
              "      <th>20</th>\n",
              "    </tr>\n",
              "  </thead>\n",
              "  <tbody>\n",
              "    <tr>\n",
              "      <th>0</th>\n",
              "      <td>A11</td>\n",
              "      <td>6</td>\n",
              "      <td>A34</td>\n",
              "      <td>A43</td>\n",
              "      <td>1169</td>\n",
              "      <td>A65</td>\n",
              "      <td>A75</td>\n",
              "      <td>4</td>\n",
              "      <td>A93</td>\n",
              "      <td>A101</td>\n",
              "      <td>4</td>\n",
              "      <td>A121</td>\n",
              "      <td>67</td>\n",
              "      <td>A143</td>\n",
              "      <td>A152</td>\n",
              "      <td>2</td>\n",
              "      <td>A173</td>\n",
              "      <td>1</td>\n",
              "      <td>A192</td>\n",
              "      <td>A201</td>\n",
              "      <td>1</td>\n",
              "    </tr>\n",
              "    <tr>\n",
              "      <th>1</th>\n",
              "      <td>A12</td>\n",
              "      <td>48</td>\n",
              "      <td>A32</td>\n",
              "      <td>A43</td>\n",
              "      <td>5951</td>\n",
              "      <td>A61</td>\n",
              "      <td>A73</td>\n",
              "      <td>2</td>\n",
              "      <td>A92</td>\n",
              "      <td>A101</td>\n",
              "      <td>2</td>\n",
              "      <td>A121</td>\n",
              "      <td>22</td>\n",
              "      <td>A143</td>\n",
              "      <td>A152</td>\n",
              "      <td>1</td>\n",
              "      <td>A173</td>\n",
              "      <td>1</td>\n",
              "      <td>A191</td>\n",
              "      <td>A201</td>\n",
              "      <td>2</td>\n",
              "    </tr>\n",
              "    <tr>\n",
              "      <th>2</th>\n",
              "      <td>A14</td>\n",
              "      <td>12</td>\n",
              "      <td>A34</td>\n",
              "      <td>A46</td>\n",
              "      <td>2096</td>\n",
              "      <td>A61</td>\n",
              "      <td>A74</td>\n",
              "      <td>2</td>\n",
              "      <td>A93</td>\n",
              "      <td>A101</td>\n",
              "      <td>3</td>\n",
              "      <td>A121</td>\n",
              "      <td>49</td>\n",
              "      <td>A143</td>\n",
              "      <td>A152</td>\n",
              "      <td>1</td>\n",
              "      <td>A172</td>\n",
              "      <td>2</td>\n",
              "      <td>A191</td>\n",
              "      <td>A201</td>\n",
              "      <td>1</td>\n",
              "    </tr>\n",
              "    <tr>\n",
              "      <th>3</th>\n",
              "      <td>A11</td>\n",
              "      <td>42</td>\n",
              "      <td>A32</td>\n",
              "      <td>A42</td>\n",
              "      <td>7882</td>\n",
              "      <td>A61</td>\n",
              "      <td>A74</td>\n",
              "      <td>2</td>\n",
              "      <td>A93</td>\n",
              "      <td>A103</td>\n",
              "      <td>4</td>\n",
              "      <td>A122</td>\n",
              "      <td>45</td>\n",
              "      <td>A143</td>\n",
              "      <td>A153</td>\n",
              "      <td>1</td>\n",
              "      <td>A173</td>\n",
              "      <td>2</td>\n",
              "      <td>A191</td>\n",
              "      <td>A201</td>\n",
              "      <td>1</td>\n",
              "    </tr>\n",
              "    <tr>\n",
              "      <th>4</th>\n",
              "      <td>A11</td>\n",
              "      <td>24</td>\n",
              "      <td>A33</td>\n",
              "      <td>A40</td>\n",
              "      <td>4870</td>\n",
              "      <td>A61</td>\n",
              "      <td>A73</td>\n",
              "      <td>3</td>\n",
              "      <td>A93</td>\n",
              "      <td>A101</td>\n",
              "      <td>4</td>\n",
              "      <td>A124</td>\n",
              "      <td>53</td>\n",
              "      <td>A143</td>\n",
              "      <td>A153</td>\n",
              "      <td>2</td>\n",
              "      <td>A173</td>\n",
              "      <td>2</td>\n",
              "      <td>A191</td>\n",
              "      <td>A201</td>\n",
              "      <td>2</td>\n",
              "    </tr>\n",
              "  </tbody>\n",
              "</table>\n",
              "</div>"
            ],
            "text/plain": [
              "    0   1    2    3     4    5    6   ...    14 15    16  17    18    19 20\n",
              "0  A11   6  A34  A43  1169  A65  A75  ...  A152  2  A173   1  A192  A201  1\n",
              "1  A12  48  A32  A43  5951  A61  A73  ...  A152  1  A173   1  A191  A201  2\n",
              "2  A14  12  A34  A46  2096  A61  A74  ...  A152  1  A172   2  A191  A201  1\n",
              "3  A11  42  A32  A42  7882  A61  A74  ...  A153  1  A173   2  A191  A201  1\n",
              "4  A11  24  A33  A40  4870  A61  A73  ...  A153  2  A173   2  A191  A201  2\n",
              "\n",
              "[5 rows x 21 columns]"
            ]
          },
          "metadata": {
            "tags": []
          },
          "execution_count": 159
        }
      ]
    },
    {
      "cell_type": "code",
      "metadata": {
        "colab": {
          "base_uri": "https://localhost:8080/",
          "height": 598
        },
        "id": "cI6yBWQqtfXY",
        "outputId": "de2bc9ff-d0c9-4a57-fb69-12578c24ff23"
      },
      "source": [
        "#meaningful tranformation of dataframe copy\n",
        "df_vis = copy.deepcopy(df)\n",
        "df_vis = substitute(df_vis)\n",
        "df_vis.head()"
      ],
      "execution_count": 160,
      "outputs": [
        {
          "output_type": "execute_result",
          "data": {
            "text/html": [
              "<div>\n",
              "<style scoped>\n",
              "    .dataframe tbody tr th:only-of-type {\n",
              "        vertical-align: middle;\n",
              "    }\n",
              "\n",
              "    .dataframe tbody tr th {\n",
              "        vertical-align: top;\n",
              "    }\n",
              "\n",
              "    .dataframe thead th {\n",
              "        text-align: right;\n",
              "    }\n",
              "</style>\n",
              "<table border=\"1\" class=\"dataframe\">\n",
              "  <thead>\n",
              "    <tr style=\"text-align: right;\">\n",
              "      <th></th>\n",
              "      <th>Status of existing checking account</th>\n",
              "      <th>Duration in month</th>\n",
              "      <th>Credit history</th>\n",
              "      <th>Purpose</th>\n",
              "      <th>Credit amount</th>\n",
              "      <th>Savings account/bonds</th>\n",
              "      <th>Present employment since</th>\n",
              "      <th>Installment rate in percentage of disposable income</th>\n",
              "      <th>Personal status and sex</th>\n",
              "      <th>Other debtors / guarantors</th>\n",
              "      <th>Present residence since</th>\n",
              "      <th>Property</th>\n",
              "      <th>Age in years</th>\n",
              "      <th>Other installment plans</th>\n",
              "      <th>Housing</th>\n",
              "      <th>Number of existing credits at this bank</th>\n",
              "      <th>Job</th>\n",
              "      <th>Number of people being liable to provide maintenance for</th>\n",
              "      <th>Telephone</th>\n",
              "      <th>foreign worker</th>\n",
              "      <th>Cost Matrix(Risk)</th>\n",
              "    </tr>\n",
              "  </thead>\n",
              "  <tbody>\n",
              "    <tr>\n",
              "      <th>0</th>\n",
              "      <td>&lt;0 DM</td>\n",
              "      <td>6</td>\n",
              "      <td>critical account</td>\n",
              "      <td>radio/television</td>\n",
              "      <td>1169</td>\n",
              "      <td>no savings account</td>\n",
              "      <td>&gt;=7 years</td>\n",
              "      <td>4</td>\n",
              "      <td>male:single</td>\n",
              "      <td>none</td>\n",
              "      <td>4</td>\n",
              "      <td>real estate</td>\n",
              "      <td>67</td>\n",
              "      <td>none</td>\n",
              "      <td>own</td>\n",
              "      <td>2</td>\n",
              "      <td>skilled employee / official</td>\n",
              "      <td>1</td>\n",
              "      <td>yes</td>\n",
              "      <td>yes</td>\n",
              "      <td>Good Risk</td>\n",
              "    </tr>\n",
              "    <tr>\n",
              "      <th>1</th>\n",
              "      <td>0 &lt;= &lt;200 DM</td>\n",
              "      <td>48</td>\n",
              "      <td>existing credits paid back duly till now</td>\n",
              "      <td>radio/television</td>\n",
              "      <td>5951</td>\n",
              "      <td>&lt;100 DM</td>\n",
              "      <td>1&lt;= &lt; 4 years</td>\n",
              "      <td>2</td>\n",
              "      <td>female:divorced/separated/married</td>\n",
              "      <td>none</td>\n",
              "      <td>2</td>\n",
              "      <td>real estate</td>\n",
              "      <td>22</td>\n",
              "      <td>none</td>\n",
              "      <td>own</td>\n",
              "      <td>1</td>\n",
              "      <td>skilled employee / official</td>\n",
              "      <td>1</td>\n",
              "      <td>none</td>\n",
              "      <td>yes</td>\n",
              "      <td>Bad Risk</td>\n",
              "    </tr>\n",
              "    <tr>\n",
              "      <th>2</th>\n",
              "      <td>no checking account</td>\n",
              "      <td>12</td>\n",
              "      <td>critical account</td>\n",
              "      <td>education</td>\n",
              "      <td>2096</td>\n",
              "      <td>&lt;100 DM</td>\n",
              "      <td>4&lt;= &lt;7 years</td>\n",
              "      <td>2</td>\n",
              "      <td>male:single</td>\n",
              "      <td>none</td>\n",
              "      <td>3</td>\n",
              "      <td>real estate</td>\n",
              "      <td>49</td>\n",
              "      <td>none</td>\n",
              "      <td>own</td>\n",
              "      <td>1</td>\n",
              "      <td>unskilled - resident</td>\n",
              "      <td>2</td>\n",
              "      <td>none</td>\n",
              "      <td>yes</td>\n",
              "      <td>Good Risk</td>\n",
              "    </tr>\n",
              "    <tr>\n",
              "      <th>3</th>\n",
              "      <td>&lt;0 DM</td>\n",
              "      <td>42</td>\n",
              "      <td>existing credits paid back duly till now</td>\n",
              "      <td>furniture/equipment</td>\n",
              "      <td>7882</td>\n",
              "      <td>&lt;100 DM</td>\n",
              "      <td>4&lt;= &lt;7 years</td>\n",
              "      <td>2</td>\n",
              "      <td>male:single</td>\n",
              "      <td>guarantor</td>\n",
              "      <td>4</td>\n",
              "      <td>savings agreement/life insurance</td>\n",
              "      <td>45</td>\n",
              "      <td>none</td>\n",
              "      <td>for free</td>\n",
              "      <td>1</td>\n",
              "      <td>skilled employee / official</td>\n",
              "      <td>2</td>\n",
              "      <td>none</td>\n",
              "      <td>yes</td>\n",
              "      <td>Good Risk</td>\n",
              "    </tr>\n",
              "    <tr>\n",
              "      <th>4</th>\n",
              "      <td>&lt;0 DM</td>\n",
              "      <td>24</td>\n",
              "      <td>delay in paying off</td>\n",
              "      <td>car (new)</td>\n",
              "      <td>4870</td>\n",
              "      <td>&lt;100 DM</td>\n",
              "      <td>1&lt;= &lt; 4 years</td>\n",
              "      <td>3</td>\n",
              "      <td>male:single</td>\n",
              "      <td>none</td>\n",
              "      <td>4</td>\n",
              "      <td>unknown / no property</td>\n",
              "      <td>53</td>\n",
              "      <td>none</td>\n",
              "      <td>for free</td>\n",
              "      <td>2</td>\n",
              "      <td>skilled employee / official</td>\n",
              "      <td>2</td>\n",
              "      <td>none</td>\n",
              "      <td>yes</td>\n",
              "      <td>Bad Risk</td>\n",
              "    </tr>\n",
              "  </tbody>\n",
              "</table>\n",
              "</div>"
            ],
            "text/plain": [
              "  Status of existing checking account  ...  Cost Matrix(Risk)\n",
              "0                               <0 DM  ...          Good Risk\n",
              "1                        0 <= <200 DM  ...           Bad Risk\n",
              "2                 no checking account  ...          Good Risk\n",
              "3                               <0 DM  ...          Good Risk\n",
              "4                               <0 DM  ...           Bad Risk\n",
              "\n",
              "[5 rows x 21 columns]"
            ]
          },
          "metadata": {
            "tags": []
          },
          "execution_count": 160
        }
      ]
    },
    {
      "cell_type": "code",
      "metadata": {
        "id": "tcrjjGnh-Yb2"
      },
      "source": [
        "last_ix = len(df.columns) - 1\n",
        "X, y = df.drop(last_ix, axis=1), df[last_ix]"
      ],
      "execution_count": 161,
      "outputs": []
    },
    {
      "cell_type": "code",
      "metadata": {
        "colab": {
          "base_uri": "https://localhost:8080/",
          "height": 419
        },
        "id": "GLOKdovE_F3l",
        "outputId": "f14b2b68-16a7-4824-c4f6-4d75516c4d66"
      },
      "source": [
        "X"
      ],
      "execution_count": 164,
      "outputs": [
        {
          "output_type": "execute_result",
          "data": {
            "text/html": [
              "<div>\n",
              "<style scoped>\n",
              "    .dataframe tbody tr th:only-of-type {\n",
              "        vertical-align: middle;\n",
              "    }\n",
              "\n",
              "    .dataframe tbody tr th {\n",
              "        vertical-align: top;\n",
              "    }\n",
              "\n",
              "    .dataframe thead th {\n",
              "        text-align: right;\n",
              "    }\n",
              "</style>\n",
              "<table border=\"1\" class=\"dataframe\">\n",
              "  <thead>\n",
              "    <tr style=\"text-align: right;\">\n",
              "      <th></th>\n",
              "      <th>0</th>\n",
              "      <th>1</th>\n",
              "      <th>2</th>\n",
              "      <th>3</th>\n",
              "      <th>4</th>\n",
              "      <th>5</th>\n",
              "      <th>6</th>\n",
              "      <th>7</th>\n",
              "      <th>8</th>\n",
              "      <th>9</th>\n",
              "      <th>10</th>\n",
              "      <th>11</th>\n",
              "      <th>12</th>\n",
              "      <th>13</th>\n",
              "      <th>14</th>\n",
              "      <th>15</th>\n",
              "      <th>16</th>\n",
              "      <th>17</th>\n",
              "      <th>18</th>\n",
              "      <th>19</th>\n",
              "    </tr>\n",
              "  </thead>\n",
              "  <tbody>\n",
              "    <tr>\n",
              "      <th>0</th>\n",
              "      <td>A11</td>\n",
              "      <td>6</td>\n",
              "      <td>A34</td>\n",
              "      <td>A43</td>\n",
              "      <td>1169</td>\n",
              "      <td>A65</td>\n",
              "      <td>A75</td>\n",
              "      <td>4</td>\n",
              "      <td>A93</td>\n",
              "      <td>A101</td>\n",
              "      <td>4</td>\n",
              "      <td>A121</td>\n",
              "      <td>67</td>\n",
              "      <td>A143</td>\n",
              "      <td>A152</td>\n",
              "      <td>2</td>\n",
              "      <td>A173</td>\n",
              "      <td>1</td>\n",
              "      <td>A192</td>\n",
              "      <td>A201</td>\n",
              "    </tr>\n",
              "    <tr>\n",
              "      <th>1</th>\n",
              "      <td>A12</td>\n",
              "      <td>48</td>\n",
              "      <td>A32</td>\n",
              "      <td>A43</td>\n",
              "      <td>5951</td>\n",
              "      <td>A61</td>\n",
              "      <td>A73</td>\n",
              "      <td>2</td>\n",
              "      <td>A92</td>\n",
              "      <td>A101</td>\n",
              "      <td>2</td>\n",
              "      <td>A121</td>\n",
              "      <td>22</td>\n",
              "      <td>A143</td>\n",
              "      <td>A152</td>\n",
              "      <td>1</td>\n",
              "      <td>A173</td>\n",
              "      <td>1</td>\n",
              "      <td>A191</td>\n",
              "      <td>A201</td>\n",
              "    </tr>\n",
              "    <tr>\n",
              "      <th>2</th>\n",
              "      <td>A14</td>\n",
              "      <td>12</td>\n",
              "      <td>A34</td>\n",
              "      <td>A46</td>\n",
              "      <td>2096</td>\n",
              "      <td>A61</td>\n",
              "      <td>A74</td>\n",
              "      <td>2</td>\n",
              "      <td>A93</td>\n",
              "      <td>A101</td>\n",
              "      <td>3</td>\n",
              "      <td>A121</td>\n",
              "      <td>49</td>\n",
              "      <td>A143</td>\n",
              "      <td>A152</td>\n",
              "      <td>1</td>\n",
              "      <td>A172</td>\n",
              "      <td>2</td>\n",
              "      <td>A191</td>\n",
              "      <td>A201</td>\n",
              "    </tr>\n",
              "    <tr>\n",
              "      <th>3</th>\n",
              "      <td>A11</td>\n",
              "      <td>42</td>\n",
              "      <td>A32</td>\n",
              "      <td>A42</td>\n",
              "      <td>7882</td>\n",
              "      <td>A61</td>\n",
              "      <td>A74</td>\n",
              "      <td>2</td>\n",
              "      <td>A93</td>\n",
              "      <td>A103</td>\n",
              "      <td>4</td>\n",
              "      <td>A122</td>\n",
              "      <td>45</td>\n",
              "      <td>A143</td>\n",
              "      <td>A153</td>\n",
              "      <td>1</td>\n",
              "      <td>A173</td>\n",
              "      <td>2</td>\n",
              "      <td>A191</td>\n",
              "      <td>A201</td>\n",
              "    </tr>\n",
              "    <tr>\n",
              "      <th>4</th>\n",
              "      <td>A11</td>\n",
              "      <td>24</td>\n",
              "      <td>A33</td>\n",
              "      <td>A40</td>\n",
              "      <td>4870</td>\n",
              "      <td>A61</td>\n",
              "      <td>A73</td>\n",
              "      <td>3</td>\n",
              "      <td>A93</td>\n",
              "      <td>A101</td>\n",
              "      <td>4</td>\n",
              "      <td>A124</td>\n",
              "      <td>53</td>\n",
              "      <td>A143</td>\n",
              "      <td>A153</td>\n",
              "      <td>2</td>\n",
              "      <td>A173</td>\n",
              "      <td>2</td>\n",
              "      <td>A191</td>\n",
              "      <td>A201</td>\n",
              "    </tr>\n",
              "    <tr>\n",
              "      <th>...</th>\n",
              "      <td>...</td>\n",
              "      <td>...</td>\n",
              "      <td>...</td>\n",
              "      <td>...</td>\n",
              "      <td>...</td>\n",
              "      <td>...</td>\n",
              "      <td>...</td>\n",
              "      <td>...</td>\n",
              "      <td>...</td>\n",
              "      <td>...</td>\n",
              "      <td>...</td>\n",
              "      <td>...</td>\n",
              "      <td>...</td>\n",
              "      <td>...</td>\n",
              "      <td>...</td>\n",
              "      <td>...</td>\n",
              "      <td>...</td>\n",
              "      <td>...</td>\n",
              "      <td>...</td>\n",
              "      <td>...</td>\n",
              "    </tr>\n",
              "    <tr>\n",
              "      <th>995</th>\n",
              "      <td>A14</td>\n",
              "      <td>12</td>\n",
              "      <td>A32</td>\n",
              "      <td>A42</td>\n",
              "      <td>1736</td>\n",
              "      <td>A61</td>\n",
              "      <td>A74</td>\n",
              "      <td>3</td>\n",
              "      <td>A92</td>\n",
              "      <td>A101</td>\n",
              "      <td>4</td>\n",
              "      <td>A121</td>\n",
              "      <td>31</td>\n",
              "      <td>A143</td>\n",
              "      <td>A152</td>\n",
              "      <td>1</td>\n",
              "      <td>A172</td>\n",
              "      <td>1</td>\n",
              "      <td>A191</td>\n",
              "      <td>A201</td>\n",
              "    </tr>\n",
              "    <tr>\n",
              "      <th>996</th>\n",
              "      <td>A11</td>\n",
              "      <td>30</td>\n",
              "      <td>A32</td>\n",
              "      <td>A41</td>\n",
              "      <td>3857</td>\n",
              "      <td>A61</td>\n",
              "      <td>A73</td>\n",
              "      <td>4</td>\n",
              "      <td>A91</td>\n",
              "      <td>A101</td>\n",
              "      <td>4</td>\n",
              "      <td>A122</td>\n",
              "      <td>40</td>\n",
              "      <td>A143</td>\n",
              "      <td>A152</td>\n",
              "      <td>1</td>\n",
              "      <td>A174</td>\n",
              "      <td>1</td>\n",
              "      <td>A192</td>\n",
              "      <td>A201</td>\n",
              "    </tr>\n",
              "    <tr>\n",
              "      <th>997</th>\n",
              "      <td>A14</td>\n",
              "      <td>12</td>\n",
              "      <td>A32</td>\n",
              "      <td>A43</td>\n",
              "      <td>804</td>\n",
              "      <td>A61</td>\n",
              "      <td>A75</td>\n",
              "      <td>4</td>\n",
              "      <td>A93</td>\n",
              "      <td>A101</td>\n",
              "      <td>4</td>\n",
              "      <td>A123</td>\n",
              "      <td>38</td>\n",
              "      <td>A143</td>\n",
              "      <td>A152</td>\n",
              "      <td>1</td>\n",
              "      <td>A173</td>\n",
              "      <td>1</td>\n",
              "      <td>A191</td>\n",
              "      <td>A201</td>\n",
              "    </tr>\n",
              "    <tr>\n",
              "      <th>998</th>\n",
              "      <td>A11</td>\n",
              "      <td>45</td>\n",
              "      <td>A32</td>\n",
              "      <td>A43</td>\n",
              "      <td>1845</td>\n",
              "      <td>A61</td>\n",
              "      <td>A73</td>\n",
              "      <td>4</td>\n",
              "      <td>A93</td>\n",
              "      <td>A101</td>\n",
              "      <td>4</td>\n",
              "      <td>A124</td>\n",
              "      <td>23</td>\n",
              "      <td>A143</td>\n",
              "      <td>A153</td>\n",
              "      <td>1</td>\n",
              "      <td>A173</td>\n",
              "      <td>1</td>\n",
              "      <td>A192</td>\n",
              "      <td>A201</td>\n",
              "    </tr>\n",
              "    <tr>\n",
              "      <th>999</th>\n",
              "      <td>A12</td>\n",
              "      <td>45</td>\n",
              "      <td>A34</td>\n",
              "      <td>A41</td>\n",
              "      <td>4576</td>\n",
              "      <td>A62</td>\n",
              "      <td>A71</td>\n",
              "      <td>3</td>\n",
              "      <td>A93</td>\n",
              "      <td>A101</td>\n",
              "      <td>4</td>\n",
              "      <td>A123</td>\n",
              "      <td>27</td>\n",
              "      <td>A143</td>\n",
              "      <td>A152</td>\n",
              "      <td>1</td>\n",
              "      <td>A173</td>\n",
              "      <td>1</td>\n",
              "      <td>A191</td>\n",
              "      <td>A201</td>\n",
              "    </tr>\n",
              "  </tbody>\n",
              "</table>\n",
              "<p>1000 rows × 20 columns</p>\n",
              "</div>"
            ],
            "text/plain": [
              "      0   1    2    3     4    5    6   ...    13    14 15    16 17    18    19\n",
              "0    A11   6  A34  A43  1169  A65  A75  ...  A143  A152  2  A173  1  A192  A201\n",
              "1    A12  48  A32  A43  5951  A61  A73  ...  A143  A152  1  A173  1  A191  A201\n",
              "2    A14  12  A34  A46  2096  A61  A74  ...  A143  A152  1  A172  2  A191  A201\n",
              "3    A11  42  A32  A42  7882  A61  A74  ...  A143  A153  1  A173  2  A191  A201\n",
              "4    A11  24  A33  A40  4870  A61  A73  ...  A143  A153  2  A173  2  A191  A201\n",
              "..   ...  ..  ...  ...   ...  ...  ...  ...   ...   ... ..   ... ..   ...   ...\n",
              "995  A14  12  A32  A42  1736  A61  A74  ...  A143  A152  1  A172  1  A191  A201\n",
              "996  A11  30  A32  A41  3857  A61  A73  ...  A143  A152  1  A174  1  A192  A201\n",
              "997  A14  12  A32  A43   804  A61  A75  ...  A143  A152  1  A173  1  A191  A201\n",
              "998  A11  45  A32  A43  1845  A61  A73  ...  A143  A153  1  A173  1  A192  A201\n",
              "999  A12  45  A34  A41  4576  A62  A71  ...  A143  A152  1  A173  1  A191  A201\n",
              "\n",
              "[1000 rows x 20 columns]"
            ]
          },
          "metadata": {
            "tags": []
          },
          "execution_count": 164
        }
      ]
    },
    {
      "cell_type": "code",
      "metadata": {
        "colab": {
          "base_uri": "https://localhost:8080/"
        },
        "id": "9lkvai-g_RJP",
        "outputId": "0beb75ca-e52c-4228-957b-6ec391328c17"
      },
      "source": [
        "# Categorical features has to be converted into integer values for the model to process. \n",
        "#This is done through one hot encoding.\n",
        "# select categorical features\n",
        "cat_ix = X.select_dtypes(include=['object', 'bool']).columns\n",
        "# one hot encode categorical features only\n",
        "ct = ColumnTransformer([('o',OneHotEncoder(),cat_ix)], remainder='passthrough')\n",
        "X = ct.fit_transform(X)\n",
        "# label encode the target variable to have the classes 0 and 1\n",
        "y = LabelEncoder().fit_transform(y)\n",
        "print(X.shape, y.shape, Counter(y))"
      ],
      "execution_count": 124,
      "outputs": [
        {
          "output_type": "stream",
          "text": [
            "(1000, 61) (1000,) Counter({0: 700, 1: 300})\n"
          ],
          "name": "stdout"
        }
      ]
    },
    {
      "cell_type": "code",
      "metadata": {
        "id": "wqL6wsI2BEgV"
      },
      "source": [
        "#Splitting the data for training and testing\n",
        "X_train, X_test, y_train, y_test = train_test_split(X,y, test_size=0.2)"
      ],
      "execution_count": 125,
      "outputs": []
    },
    {
      "cell_type": "code",
      "metadata": {
        "id": "0zSYJ76Cdouj"
      },
      "source": [
        "#5 different classifiers\n",
        "classifiers = {\n",
        "    \n",
        "    \"KNeighbors\" : KNeighborsClassifier(),\n",
        "    \"SVC\" : SVC(),\n",
        "    \"DecisionTree\" : DecisionTreeClassifier(),\n",
        "    \"RandomForest\" : RandomForestClassifier(),\n",
        "    \"GradientBoost\" : GradientBoostingClassifier()\n",
        "}"
      ],
      "execution_count": 139,
      "outputs": []
    },
    {
      "cell_type": "code",
      "metadata": {
        "colab": {
          "base_uri": "https://localhost:8080/",
          "height": 1000
        },
        "id": "Z3KnJX16eMXK",
        "outputId": "952482f5-4d01-42b0-ee43-40cac1e331ff"
      },
      "source": [
        "accuracy_scores = []\n",
        "precision_scores = []\n",
        "recall_scores = []\n",
        "f1_scores = []\n",
        "for key, classifier in classifiers.items():\n",
        "    classifier.fit(X_train,y_train)\n",
        "    y_pred = classifier.predict(X_test)\n",
        "    precision = precision_score(y_test,y_pred, average='micro')\n",
        "    precision_scores.append(precision)\n",
        "    recall = recall_score(y_test,y_pred, average='micro')\n",
        "    recall_scores.append(recall)\n",
        "    accuracy = accuracy_score(y_test,y_pred)\n",
        "    accuracy_scores.append(accuracy)\n",
        "    f1 = f1_score(y_test,y_pred, average='macro')\n",
        "    f1_scores.append(f1)\n",
        "    fig, ax = plt.subplots()\n",
        "    sns.heatmap(confusion_matrix(y_test, y_pred, normalize='true'), annot=True, ax=ax)\n",
        "    ax.set_title('Confusion Matrix '+key)\n",
        "    ax.set_xlabel('Predicted Value')\n",
        "    ax.set_ylabel('Real Value')\n",
        "\n",
        "plt.show()\n",
        "print(accuracy_scores)\n",
        "print(precision_scores)\n",
        "print(recall_scores)\n",
        "print(f1_scores)"
      ],
      "execution_count": 166,
      "outputs": [
        {
          "output_type": "display_data",
          "data": {
            "image/png": "[encoded data removed]",
            "text/plain": [
              "<Figure size 432x288 with 2 Axes>"
            ]
          },
          "metadata": {
            "tags": [],
            "needs_background": "light"
          }
        },
        {
          "output_type": "display_data",
          "data": {
            "image/png": "[encoded data removed]",
            "text/plain": [
              "<Figure size 432x288 with 2 Axes>"
            ]
          },
          "metadata": {
            "tags": [],
            "needs_background": "light"
          }
        },
        {
          "output_type": "display_data",
          "data": {
            "image/png": "[encoded data removed]",
            "text/plain": [
              "<Figure size 432x288 with 2 Axes>"
            ]
          },
          "metadata": {
            "tags": [],
            "needs_background": "light"
          }
        },
        {
          "output_type": "display_data",
          "data": {
            "image/png": "[encoded data removed]",
            "text/plain": [
              "<Figure size 432x288 with 2 Axes>"
            ]
          },
          "metadata": {
            "tags": [],
            "needs_background": "light"
          }
        },
        {
          "output_type": "display_data",
          "data": {
            "image/png": "[encoded data removed]",
            "text/plain": [
              "<Figure size 432x288 with 2 Axes>"
            ]
          },
          "metadata": {
            "tags": [],
            "needs_background": "light"
          }
        },
        {
          "output_type": "stream",
          "text": [
            "[0.65, 0.74, 0.67, 0.77, 0.78]\n",
            "[0.65, 0.74, 0.67, 0.77, 0.78]\n",
            "[0.65, 0.74, 0.67, 0.77, 0.78]\n",
            "[0.5202850877192983, 0.49019607843137253, 0.6143057503506311, 0.6593097318915716, 0.6984649122807018]\n"
          ],
          "name": "stdout"
        }
      ]
    },
    {
      "cell_type": "markdown",
      "metadata": {
        "id": "rLqwRLGXmMRA"
      },
      "source": [
        ""
      ]
    },
    {
      "cell_type": "code",
      "metadata": {
        "colab": {
          "base_uri": "https://localhost:8080/",
          "height": 590
        },
        "id": "bCULUbRJmN5N",
        "outputId": "00e6af8b-4375-439e-c20f-9ae3ce97f04b"
      },
      "source": [
        "#picking the one with best f1 score which is gradientboost\n",
        "gb = GradientBoostingClassifier()\n",
        "gb.fit(X_train,y_train)\n",
        "y_pred = gb.predict(X_test)\n",
        "y_crossvalpred = cross_val_predict(gb,X_test,y_test,cv=5)\n",
        "fig, ax = plt.subplots()\n",
        "sns.heatmap(confusion_matrix(y_test, y_crossvalpred, normalize='true'), annot=True, ax=ax)\n",
        "ax.set_title('Confusion Matrix kfold validated ')\n",
        "ax.set_xlabel('Predicted Value')\n",
        "ax.set_ylabel('Real Value')\n",
        "fig, ax = plt.subplots()\n",
        "sns.heatmap(confusion_matrix(y_test, y_pred, normalize='true'), annot=True, ax=ax)\n",
        "ax.set_title('Confusion Matrix ')\n",
        "ax.set_xlabel('Predicted Value')\n",
        "ax.set_ylabel('Real Value')\n"
      ],
      "execution_count": 168,
      "outputs": [
        {
          "output_type": "execute_result",
          "data": {
            "text/plain": [
              "Text(33.0, 0.5, 'Real Value')"
            ]
          },
          "metadata": {
            "tags": []
          },
          "execution_count": 168
        },
        {
          "output_type": "display_data",
          "data": {
            "image/png": "[encoded data removed]",
            "text/plain": [
              "<Figure size 432x288 with 2 Axes>"
            ]
          },
          "metadata": {
            "tags": [],
            "needs_background": "light"
          }
        },
        {
          "output_type": "display_data",
          "data": {
            "image/png": "[encoded data removed]",
            "text/plain": [
              "<Figure size 432x288 with 2 Axes>"
            ]
          },
          "metadata": {
            "tags": [],
            "needs_background": "light"
          }
        }
      ]
    }
  ]
}